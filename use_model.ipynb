{
 "cells": [
  {
   "cell_type": "markdown",
   "metadata": {},
   "source": [
    "## Bibliothèques"
   ]
  },
  {
   "cell_type": "code",
   "execution_count": 1,
   "metadata": {},
   "outputs": [],
   "source": [
    "# Matplotlib\n",
    "import matplotlib.pyplot as plt\n",
    "%matplotlib inline\n",
    "# Numpy and Pandas\n",
    "import numpy as np\n",
    "# Ohter import\n",
    "from PIL import Image"
   ]
  },
  {
   "cell_type": "markdown",
   "metadata": {},
   "source": [
    "## Créer la base de validation"
   ]
  },
  {
   "cell_type": "code",
   "execution_count": 2,
   "metadata": {},
   "outputs": [],
   "source": [
    "def make_test(i):\n",
    "    image = Image.open(\"dataset_src/images_prepped_test_src/0\" + str(i) + \".jpg\")\n",
    "    image = image.resize((640, 256))\n",
    "    image.save(\"dataset/images_prepped_test/0\" + str(i) + \".png\")"
   ]
  },
  {
   "cell_type": "code",
   "execution_count": 3,
   "metadata": {},
   "outputs": [],
   "source": [
    "for i in range (12,58):\n",
    "    make_test(i)"
   ]
  },
  {
   "cell_type": "markdown",
   "metadata": {},
   "source": [
    "## Importer les poids du réseau entrainé"
   ]
  },
  {
   "cell_type": "code",
   "execution_count": 9,
   "metadata": {},
   "outputs": [],
   "source": [
    "from keras_segmentation.models.unet import vgg_unet\n",
    "model = vgg_unet(n_classes=5, input_height=128, input_width=320)\n",
    "model.load_weights('networks/second_model.h5')"
   ]
  },
  {
   "cell_type": "markdown",
   "metadata": {},
   "source": [
    "## Prédire les annotations résultantes"
   ]
  },
  {
   "cell_type": "code",
   "execution_count": 12,
   "metadata": {},
   "outputs": [],
   "source": [
    "for i in range (12,58):\n",
    "    model.predict_segmentation(\n",
    "        inp=\"dataset/images_prepped_test/0\" + str(i) + \".png\",\n",
    "        out_fname=\"targets_results/0\" + str(i) + \".png\"\n",
    "    )"
   ]
  },
  {
   "cell_type": "markdown",
   "metadata": {},
   "source": [
    "## Exporter les résultats avec le masque d'annotations"
   ]
  },
  {
   "cell_type": "code",
   "execution_count": 13,
   "metadata": {},
   "outputs": [],
   "source": [
    "for i in range (12,58):\n",
    "    img = Image.open(\"dataset/images_prepped_test/0\" + str(i) + \".png\").convert(\"RGBA\")\n",
    "    background = Image.open(\"targets_results/0\" + str(i) + \".png\").convert(\"RGBA\")\n",
    "    img.putalpha(128)\n",
    "\n",
    "    background = background.resize((1920, 1080))\n",
    "    img = img.resize((1920, 1080))\n",
    "\n",
    "    background.paste(img, (0, 0), mask=img)\n",
    "    background.save(\"targets_results/0\" + str(i) + \".png\",\"PNG\")"
   ]
  }
 ],
 "metadata": {
  "language_info": {
   "codemirror_mode": {
    "name": "ipython",
    "version": 3
   },
   "file_extension": ".py",
   "mimetype": "text/x-python",
   "name": "python",
   "nbconvert_exporter": "python",
   "pygments_lexer": "ipython3",
   "version": "3.8.3-final"
  },
  "orig_nbformat": 2,
  "kernelspec": {
   "name": "python38364bit0d3ec069c9d94085b9203930dc8a8af1",
   "display_name": "Python 3.8.3 64-bit"
  }
 },
 "nbformat": 4,
 "nbformat_minor": 2
}