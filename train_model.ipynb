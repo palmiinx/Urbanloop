{
 "cells": [
  {
   "cell_type": "markdown",
   "metadata": {},
   "source": [
    "## Bibliothèques"
   ]
  },
  {
   "cell_type": "code",
   "execution_count": 1,
   "metadata": {},
   "outputs": [],
   "source": [
    "#pip install tensorflow\n",
    "#pip install keras-segmentation\n",
    "\n",
    "# Matplotlib\n",
    "import matplotlib.pyplot as plt\n",
    "%matplotlib inline\n",
    "# Tensorflow\n",
    "import tensorflow as tf\n",
    "# Numpy and Pandas\n",
    "import numpy as np\n",
    "import pandas as pd\n",
    "# Ohter import\n",
    "import sys\n",
    "import cv2\n",
    "from PIL import Image\n",
    "\n",
    "\n",
    "from sklearn.preprocessing import StandardScaler"
   ]
  },
  {
   "cell_type": "markdown",
   "metadata": {},
   "source": [
    "## Importation, entrainement, exportation du réseau vgg unet"
   ]
  },
  {
   "cell_type": "code",
   "execution_count": 2,
   "metadata": {},
   "outputs": [
    {
     "output_type": "stream",
     "name": "stderr",
     "text": "Using TensorFlow backend.\n"
    }
   ],
   "source": [
    "from keras_segmentation.models.unet import vgg_unet\n",
    "\n",
    "model = vgg_unet(n_classes=5, input_height=128, input_width=320)"
   ]
  },
  {
   "cell_type": "code",
   "execution_count": 3,
   "metadata": {},
   "outputs": [
    {
     "output_type": "stream",
     "name": "stderr",
     "text": "2%|▏         | 3/144 [00:00<00:05, 25.92it/s]Verifying training dataset\n100%|██████████| 144/144 [00:05<00:00, 24.31it/s]\nDataset verified! \nEpoch 1/5\n512/512 [==============================] - 1423s 3s/step - loss: 0.8177 - accuracy: 0.7266\nsaved  checkpoints/vgg_unet_1.0\nEpoch 2/5\n512/512 [==============================] - 1036s 2s/step - loss: 0.5785 - accuracy: 0.7945\nsaved  checkpoints/vgg_unet_1.1\nEpoch 3/5\n512/512 [==============================] - 1068s 2s/step - loss: 0.4118 - accuracy: 0.8597\nsaved  checkpoints/vgg_unet_1.2\nEpoch 4/5\n512/512 [==============================] - 940s 2s/step - loss: 0.2278 - accuracy: 0.9304\nsaved  checkpoints/vgg_unet_1.3\nEpoch 5/5\n512/512 [==============================] - 968s 2s/step - loss: 0.1374 - accuracy: 0.9586\nsaved  checkpoints/vgg_unet_1.4\n"
    }
   ],
   "source": [
    "model.train( \n",
    "    train_images =  \"dataset/images_prepped_train/\",\n",
    "    train_annotations = \"dataset/annotations_prepped_train/\",\n",
    "    checkpoints_path = \"checkpoints/vgg_unet_1\" , epochs=5\n",
    ")\n",
    "\n",
    "model.save('networks/second_model.h5')"
   ]
  },
  {
   "cell_type": "code",
   "execution_count": 4,
   "metadata": {},
   "outputs": [],
   "source": [
    "model.save('networks/second_model.h5')"
   ]
  },
  {
   "cell_type": "code",
   "execution_count": null,
   "metadata": {},
   "outputs": [],
   "source": []
  }
 ],
 "metadata": {
  "language_info": {
   "codemirror_mode": {
    "name": "ipython",
    "version": 3
   },
   "file_extension": ".py",
   "mimetype": "text/x-python",
   "name": "python",
   "nbconvert_exporter": "python",
   "pygments_lexer": "ipython3",
   "version": "3.8.3-final"
  },
  "orig_nbformat": 2,
  "kernelspec": {
   "name": "python38364bit0d3ec069c9d94085b9203930dc8a8af1",
   "display_name": "Python 3.8.3 64-bit"
  }
 },
 "nbformat": 4,
 "nbformat_minor": 2
}